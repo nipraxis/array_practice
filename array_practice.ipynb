{
 "cells": [
  {
   "cell_type": "markdown",
   "id": "4e26756c",
   "metadata": {},
   "source": [
    "# Practice with Numpy arrays"
   ]
  },
  {
   "cell_type": "code",
   "execution_count": null,
   "id": "dc1ee6b3",
   "metadata": {},
   "outputs": [],
   "source": [
    "# Don't change this cell; just run it.\n",
    "# The array library\n",
    "import numpy as np\n",
    "\n",
    "# Only show 6 decimals when printing numbers in arrays.\n",
    "np.set_printoptions(precision=6)\n",
    "\n",
    "# The OKpy testing system.\n",
    "from client.api.notebook import Notebook\n",
    "ok = Notebook('array_practice.ok')"
   ]
  },
  {
   "cell_type": "markdown",
   "id": "412d1b59",
   "metadata": {},
   "source": [
    "## Simple arrays\n",
    "\n",
    "\n",
    "Create an array with variable name `a` and the following contents (shape (3, 4)):\n",
    "\n",
    "```\n",
    "2  7 12  0\n",
    "3  9  3  4\n",
    "4  0  1  3\n",
    "```\n",
    "\n",
    "To answer the question, replace the `...` in the cell below with the correct text."
   ]
  },
  {
   "cell_type": "code",
   "execution_count": null,
   "id": "c75f4d8d",
   "metadata": {},
   "outputs": [],
   "source": [
    "#- create array \"a\" with values\n",
    "#-     2  7 12  0\n",
    "#-     3  9  3  4\n",
    "#-     4  0  1  3\n",
    "a = np.array(...)\n",
    "# Show the result.\n",
    "a"
   ]
  },
  {
   "cell_type": "code",
   "execution_count": null,
   "id": "871fd15e",
   "metadata": {},
   "outputs": [],
   "source": [
    "_ = ok.grade('q_a')"
   ]
  },
  {
   "cell_type": "markdown",
   "id": "e59c87ec",
   "metadata": {},
   "source": [
    "Show the`shape` of the array `a`."
   ]
  },
  {
   "cell_type": "code",
   "execution_count": null,
   "id": "f917cd2a",
   "metadata": {},
   "outputs": [],
   "source": [
    "#- Array shape?\n",
    "a..."
   ]
  },
  {
   "cell_type": "markdown",
   "id": "adfdc223",
   "metadata": {},
   "source": [
    "Show the `ndim` of the array `a`."
   ]
  },
  {
   "cell_type": "code",
   "execution_count": null,
   "id": "07bca250",
   "metadata": {},
   "outputs": [],
   "source": [
    "#- Array ndim?\n",
    "..."
   ]
  },
  {
   "cell_type": "markdown",
   "id": "701db0c3",
   "metadata": {},
   "source": [
    "How about the `len` of the array?"
   ]
  },
  {
   "cell_type": "code",
   "execution_count": null,
   "id": "00259f0d",
   "metadata": {},
   "outputs": [],
   "source": [
    "#- Array length\n",
    "..."
   ]
  },
  {
   "cell_type": "markdown",
   "id": "3cfcec6f",
   "metadata": {},
   "source": [
    "Can you get the `ndim` and `len` from the shape?"
   ]
  },
  {
   "cell_type": "code",
   "execution_count": null,
   "id": "3e0af033",
   "metadata": {},
   "outputs": [],
   "source": [
    "#- Get ndim and length from the shape\n",
    "...\n",
    "..."
   ]
  },
  {
   "cell_type": "markdown",
   "id": "a280c6b7",
   "metadata": {},
   "source": [
    "## Creating arrays using functions\n",
    "\n",
    "\n",
    "Create a 1D array from 2 through 5 inclusive."
   ]
  },
  {
   "cell_type": "code",
   "execution_count": null,
   "id": "c0807d82",
   "metadata": {},
   "outputs": [],
   "source": [
    "#- 1D array 2 through 5\n",
    "two_through_five = np.arange(...)\n",
    "# Show the result\n",
    "two_through_five"
   ]
  },
  {
   "cell_type": "code",
   "execution_count": null,
   "id": "e4586242",
   "metadata": {},
   "outputs": [],
   "source": [
    "_ = ok.grade('q_two_through_five')"
   ]
  },
  {
   "cell_type": "markdown",
   "id": "63ac7360",
   "metadata": {},
   "source": [
    "Make an array with 10 equally spaced elements between 2 and 5 inclusive."
   ]
  },
  {
   "cell_type": "code",
   "execution_count": null,
   "id": "1db179c5",
   "metadata": {},
   "outputs": [],
   "source": [
    "#- 10 equally spaced elements between 2 and 5\n",
    "spaced = ...\n",
    "# Show the result\n",
    "spaced"
   ]
  },
  {
   "cell_type": "code",
   "execution_count": null,
   "id": "4cce3a41",
   "metadata": {
    "lines_to_next_cell": 2
   },
   "outputs": [],
   "source": [
    "_ = ok.grade('q_spaced')"
   ]
  },
  {
   "cell_type": "markdown",
   "id": "0b711199",
   "metadata": {},
   "source": [
    "Make an all-ones array shape (4, 4)."
   ]
  },
  {
   "cell_type": "code",
   "execution_count": null,
   "id": "5dc23440",
   "metadata": {},
   "outputs": [],
   "source": [
    "#- Shape 4,4 array of 1\n",
    "all_ones = ..."
   ]
  },
  {
   "cell_type": "code",
   "execution_count": null,
   "id": "881c4d04",
   "metadata": {
    "lines_to_next_cell": 2
   },
   "outputs": [],
   "source": [
    "_ = ok.grade('q_all_ones')"
   ]
  },
  {
   "cell_type": "markdown",
   "id": "4ae1ee1a",
   "metadata": {},
   "source": [
    "Make an identity array shape (6, 6)."
   ]
  },
  {
   "cell_type": "code",
   "execution_count": null,
   "id": "fafc26b1",
   "metadata": {},
   "outputs": [],
   "source": [
    "#- Identity array shape 6, 6\n",
    "my_eye = ...\n",
    "# Show the result\n",
    "my_eye"
   ]
  },
  {
   "cell_type": "code",
   "execution_count": null,
   "id": "33bcd3d1",
   "metadata": {},
   "outputs": [],
   "source": [
    "_ = ok.grade('q_my_eye')"
   ]
  },
  {
   "cell_type": "markdown",
   "id": "e05e6f4f",
   "metadata": {},
   "source": [
    "Make this array with a single Python / numpy command:\n",
    "\n",
    "```\n",
    "1  0  0\n",
    "0  2  0\n",
    "0  0  3\n",
    "```\n",
    "\n",
    "Hint: what type of array is this?"
   ]
  },
  {
   "cell_type": "code",
   "execution_count": null,
   "id": "0a56ada6",
   "metadata": {},
   "outputs": [],
   "source": [
    "#- Array with top left value == 1 etc\n",
    "one_two_three = ...\n",
    "# Show the result\n",
    "one_two_three"
   ]
  },
  {
   "cell_type": "code",
   "execution_count": null,
   "id": "6b210055",
   "metadata": {},
   "outputs": [],
   "source": [
    "_ = ok.grade('q_one_two_three')"
   ]
  },
  {
   "cell_type": "markdown",
   "id": "fb798970",
   "metadata": {},
   "source": [
    "Here is a Numpy random number generator object:"
   ]
  },
  {
   "cell_type": "code",
   "execution_count": null,
   "id": "c22d0372",
   "metadata": {},
   "outputs": [],
   "source": [
    "rng = np.random.default_rng()\n",
    "rng"
   ]
  },
  {
   "cell_type": "markdown",
   "id": "d42446fd",
   "metadata": {},
   "source": [
    "Look at the docstring for `rng.standard_normal`.  Here's a cell that you can\n",
    "use to do that.  In particular, check out the examples.  "
   ]
  },
  {
   "cell_type": "code",
   "execution_count": null,
   "id": "b144bc29",
   "metadata": {},
   "outputs": [],
   "source": [
    "rng..."
   ]
  },
  {
   "cell_type": "markdown",
   "id": "9d128e64",
   "metadata": {},
   "source": [
    "Make a shape (3, 5) array with random numbers from a standard normal\n",
    "distribution (a normal distribution with mean 0 and variance 1)."
   ]
  },
  {
   "cell_type": "code",
   "execution_count": null,
   "id": "e19d0e55",
   "metadata": {},
   "outputs": [],
   "source": [
    "#- Array of random numbers shape 3, 5\n",
    "rand_arr = rng.standard_normal(...)\n",
    "# Show the result\n",
    "rand_arr"
   ]
  },
  {
   "cell_type": "code",
   "execution_count": null,
   "id": "3a60f3b9",
   "metadata": {},
   "outputs": [],
   "source": [
    "_ = ok.grade('q_rand_arr')"
   ]
  },
  {
   "cell_type": "markdown",
   "id": "fc0cebf9",
   "metadata": {},
   "source": [
    "## Simple visualizations\n",
    "\n",
    "\n",
    "Make an array `x` with 100 evenly spaced values between 0 and 2 \\* pi;"
   ]
  },
  {
   "cell_type": "code",
   "execution_count": null,
   "id": "a8f4d3a9",
   "metadata": {},
   "outputs": [],
   "source": [
    "#- x is an array with 100 evenly spaced numbers 0 - 2 pi\n",
    "x = ...\n",
    "# Show the result\n",
    "x"
   ]
  },
  {
   "cell_type": "code",
   "execution_count": null,
   "id": "b3a18385",
   "metadata": {},
   "outputs": [],
   "source": [
    "_ = ok.grade('q_x')"
   ]
  },
  {
   "cell_type": "markdown",
   "id": "2fdc0fd0",
   "metadata": {},
   "source": [
    "Make an array `y` which contains the cosine of the corresponding value in `x`\n",
    "— so `y[i] = cos(x[i])` (hint: `np.lookfor('cosine')`)."
   ]
  },
  {
   "cell_type": "code",
   "execution_count": null,
   "id": "a4ff9c9d",
   "metadata": {},
   "outputs": [],
   "source": [
    "#- y has cosines of values in x\n",
    "y = ...\n",
    "# Show the result\n",
    "y"
   ]
  },
  {
   "cell_type": "code",
   "execution_count": null,
   "id": "d052bd49",
   "metadata": {},
   "outputs": [],
   "source": [
    "_ = ok.grade('q_y')"
   ]
  },
  {
   "cell_type": "markdown",
   "id": "41992bca",
   "metadata": {},
   "source": [
    "Plot `x` against `y`;"
   ]
  },
  {
   "cell_type": "code",
   "execution_count": null,
   "id": "95d69575",
   "metadata": {},
   "outputs": [],
   "source": [
    "#- plot x against y\n",
    "# Import the plotting library in the standard way.\n",
    "import matplotlib.pyplot as plt\n",
    "plt..."
   ]
  },
  {
   "cell_type": "markdown",
   "id": "4abd3f6c",
   "metadata": {},
   "source": [
    "Make a 10 by 20 array of mean 0 variance 1 normal random numbers;"
   ]
  },
  {
   "cell_type": "code",
   "execution_count": null,
   "id": "af152ad8",
   "metadata": {},
   "outputs": [],
   "source": [
    "#- Shape 10, 20 array of random numbers\n",
    "rand_arr_10_20 = ...\n",
    "# Show the result\n",
    "rand_arr_10_20"
   ]
  },
  {
   "cell_type": "code",
   "execution_count": null,
   "id": "bde29db5",
   "metadata": {},
   "outputs": [],
   "source": [
    "_ = ok.grade('q_rand_arr_10_20')"
   ]
  },
  {
   "cell_type": "markdown",
   "id": "14ba3f61",
   "metadata": {},
   "source": [
    "Display this array as an image;"
   ]
  },
  {
   "cell_type": "code",
   "execution_count": null,
   "id": "5d358f98",
   "metadata": {},
   "outputs": [],
   "source": [
    "#- Display as image\n",
    "plt..."
   ]
  },
  {
   "cell_type": "markdown",
   "id": "c760f6ad",
   "metadata": {},
   "source": [
    "Investigate `plt.cm` and `plt.plot`.  See if you can work out how to make the\n",
    "displayed image be grayscale instead of color."
   ]
  },
  {
   "cell_type": "code",
   "execution_count": null,
   "id": "f5650a9d",
   "metadata": {},
   "outputs": [],
   "source": [
    "#- Grayscale image of array\n",
    "plt.imshow(rand_arr_10_20, cmap=plt.cm.gray)"
   ]
  },
  {
   "cell_type": "markdown",
   "id": "1a516763",
   "metadata": {},
   "source": [
    "## Indexing and slicing, array creation\n",
    "\n",
    "See discussion at Index ordering and reshape in NumPy and MATLAB.\n",
    "\n",
    "\n",
    "Create the following array, call this `a` (you did this before):\n",
    "\n",
    "```\n",
    "2  7 12  0\n",
    "3  9  3  4\n",
    "4  0  1  3\n",
    "```"
   ]
  },
  {
   "cell_type": "code",
   "execution_count": null,
   "id": "c3dff40b",
   "metadata": {},
   "outputs": [],
   "source": [
    "#- Create array \"a\"\n",
    "a = np.array(...)\n",
    "# Show the result.\n",
    "a"
   ]
  },
  {
   "cell_type": "code",
   "execution_count": null,
   "id": "298ff0b2",
   "metadata": {},
   "outputs": [],
   "source": [
    "_ = ok.grade('q_a')"
   ]
  },
  {
   "cell_type": "markdown",
   "id": "ce03bad8",
   "metadata": {},
   "source": [
    "Get the 2nd row of `a`.  It should be equal to `[ 3 9 3 4]`."
   ]
  },
  {
   "cell_type": "code",
   "execution_count": null,
   "id": "3a1cbcbb",
   "metadata": {},
   "outputs": [],
   "source": [
    "#- 2nd row of a\n",
    "second_row = ...\n",
    "# Show the result\n",
    "second_row"
   ]
  },
  {
   "cell_type": "code",
   "execution_count": null,
   "id": "4af43b72",
   "metadata": {},
   "outputs": [],
   "source": [
    "_ = ok.grade('q_second_row')"
   ]
  },
  {
   "cell_type": "markdown",
   "id": "3c7e7309",
   "metadata": {},
   "source": [
    "Get the 3rd column of `a` (`[12 3 1]`);"
   ]
  },
  {
   "cell_type": "code",
   "execution_count": null,
   "id": "b62367cb",
   "metadata": {},
   "outputs": [],
   "source": [
    "#- 3rd column of a\n",
    "third_column = ...\n",
    "# Show the result\n",
    "third_column"
   ]
  },
  {
   "cell_type": "code",
   "execution_count": null,
   "id": "30ac9d16",
   "metadata": {},
   "outputs": [],
   "source": [
    "_ = ok.grade('q_third_column')"
   ]
  },
  {
   "cell_type": "markdown",
   "id": "7d567d44",
   "metadata": {},
   "source": [
    "Create the following array, and call it `six_two`.  Notice that the array values do not have decimal points - they are integers (counting numbers).  Create this array to make sure you have integers and not floating point values.\n",
    "\n",
    "```\n",
    "[[1, 1, 1, 1],\n",
    "[1, 1, 1, 1],\n",
    "[1, 1, 1, 2],\n",
    "[1, 6, 1, 1]]\n",
    "```\n",
    "\n",
    "Please don't type in the values, but work out how to construct the array by\n",
    "making a good starting point, and assigning to the elements that aren't yet\n",
    "correct.\n",
    "\n",
    "Par for this course: 3 statements.\n",
    "\n",
    "*Hint*: Individual array elements can be accessed similarly to a list, e.g.\n",
    "`a[1]` or `a[1, 2]`."
   ]
  },
  {
   "cell_type": "code",
   "execution_count": null,
   "id": "a62cffa8",
   "metadata": {},
   "outputs": [],
   "source": [
    "#- Build given arrays\n",
    "six_two = ...\n",
    "...\n",
    "...\n",
    "# Show the result\n",
    "six_two"
   ]
  },
  {
   "cell_type": "code",
   "execution_count": null,
   "id": "c18be9af",
   "metadata": {},
   "outputs": [],
   "source": [
    "_ = ok.grade('q_six_two')"
   ]
  },
  {
   "cell_type": "markdown",
   "id": "24a07e5f",
   "metadata": {},
   "source": [
    "Now create this array, and call it `off_stripe`.  Notice these are floating\n",
    "point values.  Again, don't create the array by typing in the values, but work\n",
    "out how to create this array with the Numpy function(s).\n",
    "\n",
    "```\n",
    "[[0., 0., 0., 0., 0., 0.],\n",
    "[2., 0., 0., 0., 0., 0.],\n",
    "[0., 3., 0., 0., 0., 0.],\n",
    "[0., 0., 4., 0., 0., 0.],\n",
    "[0., 0., 0., 5., 0., 0.],\n",
    "[0., 0., 0., 0., 6., 0.]]\n",
    "```\n",
    "\n",
    "Par is one statement!\n",
    "\n",
    "*Hint*: Examine the docstring for `np.diag`."
   ]
  },
  {
   "cell_type": "code",
   "execution_count": null,
   "id": "67b596dc",
   "metadata": {},
   "outputs": [],
   "source": [
    "off_stripe = ...\n",
    "# Show the result\n",
    "off_stripe"
   ]
  },
  {
   "cell_type": "code",
   "execution_count": null,
   "id": "6446f9bb",
   "metadata": {},
   "outputs": [],
   "source": [
    "_ = ok.grade('q_off_stripe')"
   ]
  },
  {
   "cell_type": "markdown",
   "id": "cbe129a5",
   "metadata": {},
   "source": [
    "Skim through the documentation for `np.tile`, and use this function to\n",
    "construct the array:\n",
    "\n",
    "```\n",
    "[[4, 3, 4, 3, 4, 3],\n",
    "[2, 1, 2, 1, 2, 1],\n",
    "[4, 3, 4, 3, 4, 3],\n",
    "[2, 1, 2, 1, 2, 1]]\n",
    "```\n",
    "\n",
    "Call the array `my_tiled`."
   ]
  },
  {
   "cell_type": "code",
   "execution_count": null,
   "id": "c8529a2c",
   "metadata": {},
   "outputs": [],
   "source": [
    "#- Use np.tile to construct array\n",
    "my_tiled = ...\n",
    "# Show the result\n",
    "my_tiled"
   ]
  },
  {
   "cell_type": "code",
   "execution_count": null,
   "id": "4840b3b9",
   "metadata": {},
   "outputs": [],
   "source": [
    "_ = ok.grade('q_my_tiled')"
   ]
  },
  {
   "cell_type": "markdown",
   "id": "ce07cc62",
   "metadata": {},
   "source": [
    "## Fancy indexing using Boolean arrays\n",
    "\n",
    "\n",
    "Here we create the following array `a` (same as before):\n",
    "\n",
    "```\n",
    "2  7 12  0\n",
    "3  9  3  4\n",
    "4  0  1  3\n",
    "```"
   ]
  },
  {
   "cell_type": "code",
   "execution_count": null,
   "id": "f3559d16",
   "metadata": {},
   "outputs": [],
   "source": [
    "# Create array a\n",
    "# Recreate it here, just in case.\n",
    "a = np.array([[2, 7, 12, 0], [3, 9, 3, 4], [4, 0, 1, 3]])"
   ]
  },
  {
   "cell_type": "markdown",
   "id": "7fe95f0c",
   "metadata": {},
   "source": [
    "Use `>` to make a mask that is true where the elements are greater than\n",
    "5, like this:\n",
    "\n",
    "```\n",
    "False True  True  False\n",
    "False True  False False\n",
    "False False False False\n",
    "```\n",
    "\n",
    "Call this array `my_mask`."
   ]
  },
  {
   "cell_type": "code",
   "execution_count": null,
   "id": "77f27880",
   "metadata": {},
   "outputs": [],
   "source": [
    "#- Make mask for values greater than 5\n",
    "my_mask = ...\n",
    "# Show the result\n",
    "my_mask"
   ]
  },
  {
   "cell_type": "code",
   "execution_count": null,
   "id": "1591ac07",
   "metadata": {
    "lines_to_next_cell": 2
   },
   "outputs": [],
   "source": [
    "_ = ok.grade('q_my_mask')"
   ]
  },
  {
   "cell_type": "markdown",
   "id": "4cf26bdc",
   "metadata": {},
   "source": [
    "Put all the elements in `a` that are greater than 5 into a new array `gt_5`."
   ]
  },
  {
   "cell_type": "code",
   "execution_count": null,
   "id": "049ae339",
   "metadata": {},
   "outputs": [],
   "source": [
    "#- Return all values in a that are greater than 5\n",
    "gt_5 = ...\n",
    "# Show the result\n",
    "gt_5"
   ]
  },
  {
   "cell_type": "code",
   "execution_count": null,
   "id": "b1420cd9",
   "metadata": {},
   "outputs": [],
   "source": [
    "_ = ok.grade('q_gt_5')"
   ]
  },
  {
   "cell_type": "markdown",
   "id": "20b50f22",
   "metadata": {},
   "source": [
    "Set all the elements greater than 5 to be equal to 5, to get this:\n",
    "\n",
    "```\n",
    "2  5  5  0\n",
    "3  5  3  4\n",
    "4  0  1  3\n",
    "```\n",
    "\n",
    "Call this array `b`.  Start with `b` as a new copy of `a`."
   ]
  },
  {
   "cell_type": "code",
   "execution_count": null,
   "id": "5dfa3000",
   "metadata": {},
   "outputs": [],
   "source": [
    "#- Set all elements greater than 5 to equal 5\n",
    "# Copy the array `a` in order not to write over it.\n",
    "b = a.copy()\n",
    "# Show the result\n",
    "b"
   ]
  },
  {
   "cell_type": "code",
   "execution_count": null,
   "id": "4480f90b",
   "metadata": {
    "lines_to_next_cell": 2
   },
   "outputs": [],
   "source": [
    "_ = ok.grade('q_b')"
   ]
  },
  {
   "cell_type": "markdown",
   "id": "5c8d83f2",
   "metadata": {},
   "source": [
    "## Elementwise operations\n",
    "\n",
    "\n",
    "Remember our array `a`:\n",
    "\n",
    "```\n",
    "2  7 12  0\n",
    "3  9  3  4\n",
    "4  0  1  3\n",
    "```\n",
    "\n",
    "Use array slicing to get a new array composed of the even columns (0, 2) of\n",
    "`a`. Now get the array that contains the odd columns (1, 3) of `a`.  Add these\n",
    "two arrays."
   ]
  },
  {
   "cell_type": "code",
   "execution_count": null,
   "id": "b5542182",
   "metadata": {},
   "outputs": [],
   "source": [
    "#- Add even and odd columns of a\n",
    "a = np.array([[2, 7, 12, 0], [3, 9, 3, 4], [4, 0, 1,  3]])\n",
    "...\n",
    "...\n",
    "even_plus_odd = ...\n",
    "# Show the result\n",
    "even_plus_odd"
   ]
  },
  {
   "cell_type": "code",
   "execution_count": null,
   "id": "fbbe4776",
   "metadata": {
    "lines_to_next_cell": 2
   },
   "outputs": [],
   "source": [
    "_ = ok.grade('q_even_plus_odd')"
   ]
  },
  {
   "cell_type": "markdown",
   "id": "1dfdc7b3",
   "metadata": {},
   "source": [
    "Generate the following array, call it `powers_of_two`:\n",
    "\n",
    "```\n",
    "[2**0, 2**1, 2**2, 2**3, 2**4]\n",
    "```"
   ]
  },
  {
   "cell_type": "code",
   "execution_count": null,
   "id": "66a95fb8",
   "metadata": {},
   "outputs": [],
   "source": [
    "#- Generate array of powers of 2\n",
    "powers_of_two = ...\n",
    "# Show the result\n",
    "powers_of_two"
   ]
  },
  {
   "cell_type": "code",
   "execution_count": null,
   "id": "fd00c2a1",
   "metadata": {
    "lines_to_next_cell": 2
   },
   "outputs": [],
   "source": [
    "_ = ok.grade('q_powers_of_two')"
   ]
  },
  {
   "cell_type": "markdown",
   "id": "f1c83872",
   "metadata": {},
   "source": [
    "Generate an array length 10 such that this is true of the elements (where\n",
    "`my_values[i]` is the element of `my_values` at index `i`):\n",
    "\n",
    "```\n",
    "my_values[i] = 2 ** (3 * i) - i\n",
    "```"
   ]
  },
  {
   "cell_type": "code",
   "execution_count": null,
   "id": "51b9494f",
   "metadata": {},
   "outputs": [],
   "source": [
    "#- Generate array\n",
    "my_values = ...\n",
    "# Show the result\n",
    "my_values"
   ]
  },
  {
   "cell_type": "code",
   "execution_count": null,
   "id": "f39c648f",
   "metadata": {},
   "outputs": [],
   "source": [
    "_ = ok.grade('q_my_values')"
   ]
  },
  {
   "cell_type": "markdown",
   "id": "f4b813ec",
   "metadata": {},
   "source": [
    "## Summary functions\n",
    "\n",
    "Remember our array `a`:\n",
    "\n",
    "```\n",
    "2  7 12  0\n",
    "3  9  3  4\n",
    "4  0  1  3\n",
    "```"
   ]
  },
  {
   "cell_type": "code",
   "execution_count": null,
   "id": "8c544d57",
   "metadata": {},
   "outputs": [],
   "source": [
    "# Run the cell to re-create the array\n",
    "a = np.array([[2, 7, 12, 0], [3, 9, 3, 4], [4, 0, 1,  3]])"
   ]
  },
  {
   "cell_type": "markdown",
   "id": "54eb09b2",
   "metadata": {},
   "source": [
    "Show the sum of all the values."
   ]
  },
  {
   "cell_type": "code",
   "execution_count": null,
   "id": "00c8d686",
   "metadata": {},
   "outputs": [],
   "source": [
    "#- Sum of values in a\n",
    "a_sum = ...\n",
    "# Show the result\n",
    "a_sum"
   ]
  },
  {
   "cell_type": "code",
   "execution_count": null,
   "id": "f8700f6f",
   "metadata": {
    "lines_to_next_cell": 2
   },
   "outputs": [],
   "source": [
    "_ = ok.grade('q_a_sum')"
   ]
  },
  {
   "cell_type": "markdown",
   "id": "f6ab622e",
   "metadata": {},
   "source": [
    "Show the sum of the columns."
   ]
  },
  {
   "cell_type": "code",
   "execution_count": null,
   "id": "3e7d641d",
   "metadata": {},
   "outputs": [],
   "source": [
    "#- Sum of the values of the columns in a.\n",
    "#- There are four columns, so there will be four values.\n",
    "col_sum = ...\n",
    "# Show the result\n",
    "col_sum"
   ]
  },
  {
   "cell_type": "code",
   "execution_count": null,
   "id": "dc23dc5c",
   "metadata": {},
   "outputs": [],
   "source": [
    "_ = ok.grade('q_col_sum')"
   ]
  },
  {
   "cell_type": "markdown",
   "id": "dd29555e",
   "metadata": {},
   "source": [
    "Show the sum of the rows."
   ]
  },
  {
   "cell_type": "code",
   "execution_count": null,
   "id": "1afcc8cf",
   "metadata": {},
   "outputs": [],
   "source": [
    "#- Sum of the values of the rows in a\n",
    "row_sum = ...\n",
    "# Show the result\n",
    "row_sum"
   ]
  },
  {
   "cell_type": "code",
   "execution_count": null,
   "id": "cba40b94",
   "metadata": {},
   "outputs": [],
   "source": [
    "_ = ok.grade('q_row_sum')"
   ]
  },
  {
   "cell_type": "markdown",
   "id": "0297689f",
   "metadata": {},
   "source": [
    "Show the mean of all the values in `a`."
   ]
  },
  {
   "cell_type": "code",
   "execution_count": null,
   "id": "5d63ca7b",
   "metadata": {},
   "outputs": [],
   "source": [
    "#- Mean of all the values in a\n",
    "a_mean = ...\n",
    "# Show the result\n",
    "a_mean"
   ]
  },
  {
   "cell_type": "code",
   "execution_count": null,
   "id": "83160f20",
   "metadata": {
    "lines_to_next_cell": 2
   },
   "outputs": [],
   "source": [
    "_ = ok.grade('q_a_mean')"
   ]
  },
  {
   "cell_type": "markdown",
   "id": "beaafd52",
   "metadata": {},
   "source": [
    "Show the min of all the values."
   ]
  },
  {
   "cell_type": "code",
   "execution_count": null,
   "id": "342f3ef8",
   "metadata": {},
   "outputs": [],
   "source": [
    "#- Minimum of all the values in a\n",
    "a_min = ...\n",
    "# Show the result\n",
    "a_min"
   ]
  },
  {
   "cell_type": "code",
   "execution_count": null,
   "id": "c67525f3",
   "metadata": {},
   "outputs": [],
   "source": [
    "_ = ok.grade('q_a_min')"
   ]
  },
  {
   "cell_type": "markdown",
   "id": "67dbf9fb",
   "metadata": {},
   "source": [
    "The max?"
   ]
  },
  {
   "cell_type": "code",
   "execution_count": null,
   "id": "622b674c",
   "metadata": {},
   "outputs": [],
   "source": [
    "#- Maximum of all the values in a\n",
    "a_max = ...\n",
    "# Show the result\n",
    "a_max"
   ]
  },
  {
   "cell_type": "code",
   "execution_count": null,
   "id": "3d6f8d30",
   "metadata": {},
   "outputs": [],
   "source": [
    "_ = ok.grade('q_a_min')"
   ]
  },
  {
   "cell_type": "markdown",
   "id": "e26514cb",
   "metadata": {},
   "source": [
    "## Done.\n",
    "\n",
    "Congratulations, you're done with the assignment!  Be sure to:\n",
    "\n",
    "- **run all the tests** (the next cell has a shortcut for that).\n",
    "- **Save and Checkpoint** from the `File` menu."
   ]
  },
  {
   "cell_type": "code",
   "execution_count": null,
   "id": "38d41684",
   "metadata": {},
   "outputs": [],
   "source": [
    "# For your convenience, you can run this cell to run all the tests at once!\n",
    "import os\n",
    "_ = [ok.grade(q[:-3]) for q in os.listdir(\"tests\") if q.startswith('q')]"
   ]
  }
 ],
 "metadata": {
  "jupytext": {
   "notebook_metadata_filter": "all,-language_info",
   "split_at_heading": true,
   "text_representation": {
    "extension": ".Rmd",
    "format_name": "rmarkdown",
    "format_version": "1.1",
    "jupytext_version": "1.2.4"
   }
  },
  "kernelspec": {
   "display_name": "Python 3",
   "language": "python",
   "name": "python3"
  }
 },
 "nbformat": 4,
 "nbformat_minor": 5
}
