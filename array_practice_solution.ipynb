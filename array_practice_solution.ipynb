{
 "cells": [
  {
   "cell_type": "markdown",
   "id": "0286531a",
   "metadata": {},
   "source": [
    "# Practice with Numpy arrays"
   ]
  },
  {
   "cell_type": "code",
   "execution_count": 1,
   "id": "4920c67f",
   "metadata": {
    "execution": {
     "iopub.execute_input": "2022-03-30T22:27:03.516816Z",
     "iopub.status.busy": "2022-03-30T22:27:03.516133Z",
     "iopub.status.idle": "2022-03-30T22:27:03.877925Z",
     "shell.execute_reply": "2022-03-30T22:27:03.878398Z"
    }
   },
   "outputs": [],
   "source": [
    "# Don't change this cell; just run it.\n",
    "# The array library\n",
    "import numpy as np\n",
    "\n",
    "# Only show 6 decimals when printing numbers in arrays.\n",
    "np.set_printoptions(precision=6)\n",
    "\n",
    "# The OKpy testing system.\n",
    "from client.api.notebook import Notebook\n",
    "ok = Notebook('array_practice.ok')"
   ]
  },
  {
   "cell_type": "markdown",
   "id": "2f92506c",
   "metadata": {},
   "source": [
    "## Simple arrays\n",
    "\n",
    "\n",
    "Create an array with variable name `a` and the following contents (shape (3, 4)):\n",
    "\n",
    "```\n",
    "2  7 12  0\n",
    "3  9  3  4\n",
    "4  0  1  3\n",
    "```\n",
    "\n",
    "To answer the question, replace the `...` in the cell below with the correct text."
   ]
  },
  {
   "cell_type": "code",
   "execution_count": 2,
   "id": "0b8d1d13",
   "metadata": {
    "execution": {
     "iopub.execute_input": "2022-03-30T22:27:03.889651Z",
     "iopub.status.busy": "2022-03-30T22:27:03.888833Z",
     "iopub.status.idle": "2022-03-30T22:27:03.891928Z",
     "shell.execute_reply": "2022-03-30T22:27:03.892350Z"
    }
   },
   "outputs": [],
   "source": [
    "#- create array \"a\" with values\n",
    "#-     2  7 12  0\n",
    "#-     3  9  3  4\n",
    "#-     4  0  1  3\n",
    "a = np.array([[2, 7, 12, 0], [3, 9, 3, 4], [4, 0, 1,  3]])\n",
    "# Show the result.\n",
    "a"
   ]
  },
  {
   "cell_type": "code",
   "execution_count": 3,
   "id": "8dfdc623",
   "metadata": {
    "execution": {
     "iopub.execute_input": "2022-03-30T22:27:03.896632Z",
     "iopub.status.busy": "2022-03-30T22:27:03.895838Z",
     "iopub.status.idle": "2022-03-30T22:27:03.929054Z",
     "shell.execute_reply": "2022-03-30T22:27:03.927697Z"
    }
   },
   "outputs": [],
   "source": [
    "_ = ok.grade('q_a')"
   ]
  },
  {
   "cell_type": "markdown",
   "id": "ad8ce7c6",
   "metadata": {},
   "source": [
    "Show the`shape` of the array `a`."
   ]
  },
  {
   "cell_type": "code",
   "execution_count": 4,
   "id": "a1e8ab8b",
   "metadata": {
    "execution": {
     "iopub.execute_input": "2022-03-30T22:27:03.933433Z",
     "iopub.status.busy": "2022-03-30T22:27:03.932838Z",
     "iopub.status.idle": "2022-03-30T22:27:03.935315Z",
     "shell.execute_reply": "2022-03-30T22:27:03.935731Z"
    }
   },
   "outputs": [],
   "source": [
    "#- Array shape?\n",
    "a.shape"
   ]
  },
  {
   "cell_type": "markdown",
   "id": "d12b3ebb",
   "metadata": {},
   "source": [
    "Show the `ndim` of the array `a`."
   ]
  },
  {
   "cell_type": "code",
   "execution_count": 5,
   "id": "53f35ab6",
   "metadata": {
    "execution": {
     "iopub.execute_input": "2022-03-30T22:27:03.939537Z",
     "iopub.status.busy": "2022-03-30T22:27:03.938814Z",
     "iopub.status.idle": "2022-03-30T22:27:03.941633Z",
     "shell.execute_reply": "2022-03-30T22:27:03.942047Z"
    }
   },
   "outputs": [],
   "source": [
    "#- Array ndim?\n",
    "a.ndim"
   ]
  },
  {
   "cell_type": "markdown",
   "id": "29026304",
   "metadata": {},
   "source": [
    "How about the `len` of the array?"
   ]
  },
  {
   "cell_type": "code",
   "execution_count": 6,
   "id": "5893f6b9",
   "metadata": {
    "execution": {
     "iopub.execute_input": "2022-03-30T22:27:03.945753Z",
     "iopub.status.busy": "2022-03-30T22:27:03.945030Z",
     "iopub.status.idle": "2022-03-30T22:27:03.947546Z",
     "shell.execute_reply": "2022-03-30T22:27:03.948051Z"
    }
   },
   "outputs": [],
   "source": [
    "#- Array length\n",
    "len(a)"
   ]
  },
  {
   "cell_type": "markdown",
   "id": "8d48772d",
   "metadata": {},
   "source": [
    "Can you get the `ndim` and `len` from the shape?"
   ]
  },
  {
   "cell_type": "code",
   "execution_count": 7,
   "id": "74e56c5c",
   "metadata": {
    "execution": {
     "iopub.execute_input": "2022-03-30T22:27:03.952451Z",
     "iopub.status.busy": "2022-03-30T22:27:03.951787Z",
     "iopub.status.idle": "2022-03-30T22:27:03.954371Z",
     "shell.execute_reply": "2022-03-30T22:27:03.954843Z"
    }
   },
   "outputs": [],
   "source": [
    "#- Get ndim and length from the shape\n",
    "len(a.shape) == a.ndim\n",
    "a.shape[0] == len(a)"
   ]
  },
  {
   "cell_type": "markdown",
   "id": "c2ea038e",
   "metadata": {},
   "source": [
    "## Creating arrays using functions\n",
    "\n",
    "\n",
    "Create a 1D array from 2 through 5 inclusive."
   ]
  },
  {
   "cell_type": "code",
   "execution_count": 8,
   "id": "e212d8b4",
   "metadata": {
    "execution": {
     "iopub.execute_input": "2022-03-30T22:27:03.958826Z",
     "iopub.status.busy": "2022-03-30T22:27:03.958234Z",
     "iopub.status.idle": "2022-03-30T22:27:03.960739Z",
     "shell.execute_reply": "2022-03-30T22:27:03.961211Z"
    }
   },
   "outputs": [],
   "source": [
    "#- 1D array 2 through 5\n",
    "two_through_five = np.arange(2, 6)\n",
    "# Show the result\n",
    "two_through_five"
   ]
  },
  {
   "cell_type": "code",
   "execution_count": 9,
   "id": "8ccbadb7",
   "metadata": {
    "execution": {
     "iopub.execute_input": "2022-03-30T22:27:03.965366Z",
     "iopub.status.busy": "2022-03-30T22:27:03.964553Z",
     "iopub.status.idle": "2022-03-30T22:27:04.000423Z",
     "shell.execute_reply": "2022-03-30T22:27:03.998361Z"
    }
   },
   "outputs": [],
   "source": [
    "_ = ok.grade('q_two_through_five')"
   ]
  },
  {
   "cell_type": "markdown",
   "id": "14f9c5f1",
   "metadata": {},
   "source": [
    "Make an array with 10 equally spaced elements between 2 and 5 inclusive."
   ]
  },
  {
   "cell_type": "code",
   "execution_count": 10,
   "id": "ea7f90e5",
   "metadata": {
    "execution": {
     "iopub.execute_input": "2022-03-30T22:27:04.004874Z",
     "iopub.status.busy": "2022-03-30T22:27:04.004242Z",
     "iopub.status.idle": "2022-03-30T22:27:04.006839Z",
     "shell.execute_reply": "2022-03-30T22:27:04.007371Z"
    }
   },
   "outputs": [],
   "source": [
    "#- 10 equally spaced elements between 2 and 5\n",
    "spaced = np.linspace(2, 5, 10)\n",
    "# Show the result\n",
    "spaced"
   ]
  },
  {
   "cell_type": "code",
   "execution_count": 11,
   "id": "8561a447",
   "metadata": {
    "execution": {
     "iopub.execute_input": "2022-03-30T22:27:04.014669Z",
     "iopub.status.busy": "2022-03-30T22:27:04.013036Z",
     "iopub.status.idle": "2022-03-30T22:27:04.054431Z",
     "shell.execute_reply": "2022-03-30T22:27:04.052397Z"
    },
    "lines_to_next_cell": 2
   },
   "outputs": [],
   "source": [
    "_ = ok.grade('q_spaced')"
   ]
  },
  {
   "cell_type": "markdown",
   "id": "97b8de67",
   "metadata": {},
   "source": [
    "Make an all-ones array shape (4, 4)."
   ]
  },
  {
   "cell_type": "code",
   "execution_count": 12,
   "id": "621e4f0b",
   "metadata": {
    "execution": {
     "iopub.execute_input": "2022-03-30T22:27:04.060074Z",
     "iopub.status.busy": "2022-03-30T22:27:04.058865Z",
     "iopub.status.idle": "2022-03-30T22:27:04.062241Z",
     "shell.execute_reply": "2022-03-30T22:27:04.062709Z"
    }
   },
   "outputs": [],
   "source": [
    "#- Shape 4,4 array of 1\n",
    "all_ones = np.ones((4, 4))\n",
    "# Show the result\n",
    "all_ones"
   ]
  },
  {
   "cell_type": "code",
   "execution_count": 13,
   "id": "30007058",
   "metadata": {
    "execution": {
     "iopub.execute_input": "2022-03-30T22:27:04.067524Z",
     "iopub.status.busy": "2022-03-30T22:27:04.066875Z",
     "iopub.status.idle": "2022-03-30T22:27:04.107079Z",
     "shell.execute_reply": "2022-03-30T22:27:04.105763Z"
    },
    "lines_to_next_cell": 2
   },
   "outputs": [],
   "source": [
    "_ = ok.grade('q_all_ones')"
   ]
  },
  {
   "cell_type": "markdown",
   "id": "3c98eb2a",
   "metadata": {},
   "source": [
    "Make an identity array shape (6, 6)."
   ]
  },
  {
   "cell_type": "code",
   "execution_count": 14,
   "id": "60ac0720",
   "metadata": {
    "execution": {
     "iopub.execute_input": "2022-03-30T22:27:04.112000Z",
     "iopub.status.busy": "2022-03-30T22:27:04.111180Z",
     "iopub.status.idle": "2022-03-30T22:27:04.114319Z",
     "shell.execute_reply": "2022-03-30T22:27:04.114972Z"
    }
   },
   "outputs": [],
   "source": [
    "#- Identity array shape 6, 6\n",
    "my_eye = np.eye(6)\n",
    "# Show the result\n",
    "my_eye"
   ]
  },
  {
   "cell_type": "code",
   "execution_count": 15,
   "id": "5e2c75b4",
   "metadata": {
    "execution": {
     "iopub.execute_input": "2022-03-30T22:27:04.119234Z",
     "iopub.status.busy": "2022-03-30T22:27:04.118553Z",
     "iopub.status.idle": "2022-03-30T22:27:04.148979Z",
     "shell.execute_reply": "2022-03-30T22:27:04.147533Z"
    }
   },
   "outputs": [],
   "source": [
    "_ = ok.grade('q_my_eye')"
   ]
  },
  {
   "cell_type": "markdown",
   "id": "9fd74122",
   "metadata": {},
   "source": [
    "Make this array with a single Python / numpy command:\n",
    "\n",
    "```\n",
    "1  0  0\n",
    "0  2  0\n",
    "0  0  3\n",
    "```\n",
    "\n",
    "Hint: what type of array is this?"
   ]
  },
  {
   "cell_type": "code",
   "execution_count": 16,
   "id": "ef53f327",
   "metadata": {
    "execution": {
     "iopub.execute_input": "2022-03-30T22:27:04.153406Z",
     "iopub.status.busy": "2022-03-30T22:27:04.152764Z",
     "iopub.status.idle": "2022-03-30T22:27:04.155161Z",
     "shell.execute_reply": "2022-03-30T22:27:04.155686Z"
    }
   },
   "outputs": [],
   "source": [
    "#- Array with top left value == 1 etc\n",
    "one_two_three = np.diag([1, 2, 3])\n",
    "# Show the result\n",
    "one_two_three"
   ]
  },
  {
   "cell_type": "code",
   "execution_count": 17,
   "id": "0604844d",
   "metadata": {
    "execution": {
     "iopub.execute_input": "2022-03-30T22:27:04.159250Z",
     "iopub.status.busy": "2022-03-30T22:27:04.158572Z",
     "iopub.status.idle": "2022-03-30T22:27:04.178320Z",
     "shell.execute_reply": "2022-03-30T22:27:04.177106Z"
    }
   },
   "outputs": [],
   "source": [
    "_ = ok.grade('q_one_two_three')"
   ]
  },
  {
   "cell_type": "markdown",
   "id": "5ea6b644",
   "metadata": {},
   "source": [
    "Here is a Numpy random number generator object:"
   ]
  },
  {
   "cell_type": "code",
   "execution_count": 18,
   "id": "dd657575",
   "metadata": {
    "execution": {
     "iopub.execute_input": "2022-03-30T22:27:04.183803Z",
     "iopub.status.busy": "2022-03-30T22:27:04.183183Z",
     "iopub.status.idle": "2022-03-30T22:27:04.185783Z",
     "shell.execute_reply": "2022-03-30T22:27:04.186202Z"
    }
   },
   "outputs": [],
   "source": [
    "rng = np.random.default_rng()\n",
    "rng"
   ]
  },
  {
   "cell_type": "markdown",
   "id": "96b1eb1d",
   "metadata": {},
   "source": [
    "Look at the docstring for `rng.standard_normal`.  Here's a cell that you can\n",
    "use to do that.  In particular, check out the examples.  "
   ]
  },
  {
   "cell_type": "code",
   "execution_count": 19,
   "id": "56db1910",
   "metadata": {
    "execution": {
     "iopub.execute_input": "2022-03-30T22:27:04.189836Z",
     "iopub.status.busy": "2022-03-30T22:27:04.189216Z",
     "iopub.status.idle": "2022-03-30T22:27:04.191068Z",
     "shell.execute_reply": "2022-03-30T22:27:04.191483Z"
    }
   },
   "outputs": [],
   "source": [
    "# Use this cell with Jupyter's ? help system to check the docstring."
   ]
  },
  {
   "cell_type": "markdown",
   "id": "c66d7ea6",
   "metadata": {},
   "source": [
    "Make a shape (3, 5) array with random numbers from a standard normal\n",
    "distribution (a normal distribution with mean 0 and variance 1)."
   ]
  },
  {
   "cell_type": "code",
   "execution_count": 20,
   "id": "1aac0308",
   "metadata": {
    "execution": {
     "iopub.execute_input": "2022-03-30T22:27:04.195507Z",
     "iopub.status.busy": "2022-03-30T22:27:04.194756Z",
     "iopub.status.idle": "2022-03-30T22:27:04.199027Z",
     "shell.execute_reply": "2022-03-30T22:27:04.199450Z"
    }
   },
   "outputs": [],
   "source": [
    "#- Array of random numbers shape 3, 5\n",
    "rand_arr = rng.standard_normal(size=(3, 5))\n",
    "# Show the result\n",
    "rand_arr"
   ]
  },
  {
   "cell_type": "code",
   "execution_count": 21,
   "id": "0e977e43",
   "metadata": {
    "execution": {
     "iopub.execute_input": "2022-03-30T22:27:04.203038Z",
     "iopub.status.busy": "2022-03-30T22:27:04.202360Z",
     "iopub.status.idle": "2022-03-30T22:27:04.222150Z",
     "shell.execute_reply": "2022-03-30T22:27:04.220959Z"
    }
   },
   "outputs": [],
   "source": [
    "_ = ok.grade('q_rand_arr')"
   ]
  },
  {
   "cell_type": "markdown",
   "id": "76a67815",
   "metadata": {},
   "source": [
    "## Simple visualizations\n",
    "\n",
    "\n",
    "Make an array `x` with 100 evenly spaced values between 0 and 2 \\* pi;"
   ]
  },
  {
   "cell_type": "code",
   "execution_count": 22,
   "id": "3efa0792",
   "metadata": {
    "execution": {
     "iopub.execute_input": "2022-03-30T22:27:04.227573Z",
     "iopub.status.busy": "2022-03-30T22:27:04.226896Z",
     "iopub.status.idle": "2022-03-30T22:27:04.229453Z",
     "shell.execute_reply": "2022-03-30T22:27:04.229881Z"
    }
   },
   "outputs": [],
   "source": [
    "#- x is an array with 100 evenly spaced numbers 0 - 2 pi\n",
    "x = np.linspace(0, 2 * np.pi, 100)\n",
    "# Show the result\n",
    "x"
   ]
  },
  {
   "cell_type": "code",
   "execution_count": 23,
   "id": "3d9142b5",
   "metadata": {
    "execution": {
     "iopub.execute_input": "2022-03-30T22:27:04.234173Z",
     "iopub.status.busy": "2022-03-30T22:27:04.233481Z",
     "iopub.status.idle": "2022-03-30T22:27:04.251996Z",
     "shell.execute_reply": "2022-03-30T22:27:04.250017Z"
    }
   },
   "outputs": [],
   "source": [
    "_ = ok.grade('q_x')"
   ]
  },
  {
   "cell_type": "markdown",
   "id": "0a0a7908",
   "metadata": {},
   "source": [
    "Make an array `y` which contains the cosine of the corresponding value in `x`\n",
    "— so `y[i] = cos(x[i])` (hint: `np.lookfor('cosine')`)."
   ]
  },
  {
   "cell_type": "code",
   "execution_count": 24,
   "id": "0b713052",
   "metadata": {
    "execution": {
     "iopub.execute_input": "2022-03-30T22:27:04.256828Z",
     "iopub.status.busy": "2022-03-30T22:27:04.256189Z",
     "iopub.status.idle": "2022-03-30T22:27:04.258739Z",
     "shell.execute_reply": "2022-03-30T22:27:04.259148Z"
    }
   },
   "outputs": [],
   "source": [
    "#- y has cosines of values in x\n",
    "y = np.cos(x)\n",
    "# Show the result\n",
    "y"
   ]
  },
  {
   "cell_type": "code",
   "execution_count": 25,
   "id": "a913f5f9",
   "metadata": {
    "execution": {
     "iopub.execute_input": "2022-03-30T22:27:04.263040Z",
     "iopub.status.busy": "2022-03-30T22:27:04.262207Z",
     "iopub.status.idle": "2022-03-30T22:27:04.280324Z",
     "shell.execute_reply": "2022-03-30T22:27:04.278424Z"
    }
   },
   "outputs": [],
   "source": [
    "_ = ok.grade('q_y')"
   ]
  },
  {
   "cell_type": "markdown",
   "id": "b52f9e69",
   "metadata": {},
   "source": [
    "Plot `x` against `y`;"
   ]
  },
  {
   "cell_type": "code",
   "execution_count": 26,
   "id": "5117d65d",
   "metadata": {
    "execution": {
     "iopub.execute_input": "2022-03-30T22:27:04.284713Z",
     "iopub.status.busy": "2022-03-30T22:27:04.284026Z",
     "iopub.status.idle": "2022-03-30T22:27:04.734627Z",
     "shell.execute_reply": "2022-03-30T22:27:04.735045Z"
    }
   },
   "outputs": [],
   "source": [
    "#- plot x against y\n",
    "# Import the plotting library in the standard way.\n",
    "import matplotlib.pyplot as plt\n",
    "plt.plot(x, y)"
   ]
  },
  {
   "cell_type": "markdown",
   "id": "45a78268",
   "metadata": {},
   "source": [
    "Make a 10 by 20 array of mean 0 variance 1 normal random numbers;"
   ]
  },
  {
   "cell_type": "code",
   "execution_count": 27,
   "id": "6ba9be87",
   "metadata": {
    "execution": {
     "iopub.execute_input": "2022-03-30T22:27:04.741001Z",
     "iopub.status.busy": "2022-03-30T22:27:04.740356Z",
     "iopub.status.idle": "2022-03-30T22:27:04.743065Z",
     "shell.execute_reply": "2022-03-30T22:27:04.743478Z"
    }
   },
   "outputs": [],
   "source": [
    "#- Shape 10, 20 array of random numbers\n",
    "rand_arr_10_20 = rng.standard_normal(size=(10, 20))\n",
    "# Show the result\n",
    "rand_arr_10_20"
   ]
  },
  {
   "cell_type": "code",
   "execution_count": 28,
   "id": "15045445",
   "metadata": {
    "execution": {
     "iopub.execute_input": "2022-03-30T22:27:04.749900Z",
     "iopub.status.busy": "2022-03-30T22:27:04.749005Z",
     "iopub.status.idle": "2022-03-30T22:27:04.770780Z",
     "shell.execute_reply": "2022-03-30T22:27:04.768899Z"
    }
   },
   "outputs": [],
   "source": [
    "_ = ok.grade('q_rand_arr_10_20')"
   ]
  },
  {
   "cell_type": "markdown",
   "id": "716054b4",
   "metadata": {},
   "source": [
    "Display this array as an image;"
   ]
  },
  {
   "cell_type": "code",
   "execution_count": 29,
   "id": "04072dd5",
   "metadata": {
    "execution": {
     "iopub.execute_input": "2022-03-30T22:27:04.790951Z",
     "iopub.status.busy": "2022-03-30T22:27:04.787505Z",
     "iopub.status.idle": "2022-03-30T22:27:04.886479Z",
     "shell.execute_reply": "2022-03-30T22:27:04.886901Z"
    }
   },
   "outputs": [],
   "source": [
    "#- Display as image\n",
    "plt.imshow(rand_arr_10_20)"
   ]
  },
  {
   "cell_type": "markdown",
   "id": "474a84b1",
   "metadata": {},
   "source": [
    "Investigate `plt.cm` and `plt.plot`.  See if you can work out how to make the\n",
    "displayed image be grayscale instead of color."
   ]
  },
  {
   "cell_type": "code",
   "execution_count": 30,
   "id": "27e35f5b",
   "metadata": {
    "execution": {
     "iopub.execute_input": "2022-03-30T22:27:04.912730Z",
     "iopub.status.busy": "2022-03-30T22:27:04.910352Z",
     "iopub.status.idle": "2022-03-30T22:27:05.016682Z",
     "shell.execute_reply": "2022-03-30T22:27:05.017102Z"
    }
   },
   "outputs": [],
   "source": [
    "#- Grayscale image of array\n",
    "plt.imshow(rand_arr, cmap=plt.cm.gray)"
   ]
  },
  {
   "cell_type": "markdown",
   "id": "93260d11",
   "metadata": {},
   "source": [
    "## Indexing and slicing, array creation\n",
    "\n",
    "See discussion at Index ordering and reshape in NumPy and MATLAB.\n",
    "\n",
    "\n",
    "Create the following array, call this `a` (you did this before):\n",
    "\n",
    "```\n",
    "2  7 12  0\n",
    "3  9  3  4\n",
    "4  0  1  3\n",
    "```"
   ]
  },
  {
   "cell_type": "code",
   "execution_count": 31,
   "id": "750295ec",
   "metadata": {
    "execution": {
     "iopub.execute_input": "2022-03-30T22:27:05.022115Z",
     "iopub.status.busy": "2022-03-30T22:27:05.021419Z",
     "iopub.status.idle": "2022-03-30T22:27:05.023959Z",
     "shell.execute_reply": "2022-03-30T22:27:05.024387Z"
    }
   },
   "outputs": [],
   "source": [
    "#- Create array \"a\"\n",
    "a = np.array([[2, 7, 12, 0], [3, 9, 3, 4], [4, 0, 1,  3]])\n",
    "# Show the result.\n",
    "a"
   ]
  },
  {
   "cell_type": "code",
   "execution_count": 32,
   "id": "c584407a",
   "metadata": {
    "execution": {
     "iopub.execute_input": "2022-03-30T22:27:05.028037Z",
     "iopub.status.busy": "2022-03-30T22:27:05.027412Z",
     "iopub.status.idle": "2022-03-30T22:27:05.045928Z",
     "shell.execute_reply": "2022-03-30T22:27:05.044631Z"
    }
   },
   "outputs": [],
   "source": [
    "_ = ok.grade('q_a')"
   ]
  },
  {
   "cell_type": "markdown",
   "id": "ea381e45",
   "metadata": {},
   "source": [
    "Get the 2nd row of `a`.  It should be equal to `[ 3 9 3 4]`."
   ]
  },
  {
   "cell_type": "code",
   "execution_count": 33,
   "id": "be7f2999",
   "metadata": {
    "execution": {
     "iopub.execute_input": "2022-03-30T22:27:05.050416Z",
     "iopub.status.busy": "2022-03-30T22:27:05.049723Z",
     "iopub.status.idle": "2022-03-30T22:27:05.052449Z",
     "shell.execute_reply": "2022-03-30T22:27:05.052942Z"
    }
   },
   "outputs": [],
   "source": [
    "#- 2nd row of a\n",
    "second_row = a[1]\n",
    "# Show the result\n",
    "second_row"
   ]
  },
  {
   "cell_type": "code",
   "execution_count": 34,
   "id": "94b07f71",
   "metadata": {
    "execution": {
     "iopub.execute_input": "2022-03-30T22:27:05.056590Z",
     "iopub.status.busy": "2022-03-30T22:27:05.055918Z",
     "iopub.status.idle": "2022-03-30T22:27:05.074146Z",
     "shell.execute_reply": "2022-03-30T22:27:05.072940Z"
    }
   },
   "outputs": [],
   "source": [
    "_ = ok.grade('q_second_row')"
   ]
  },
  {
   "cell_type": "markdown",
   "id": "1cd80437",
   "metadata": {},
   "source": [
    "Get the 3rd column of `a` (`[12 3 1]`);"
   ]
  },
  {
   "cell_type": "code",
   "execution_count": 35,
   "id": "d92fc193",
   "metadata": {
    "execution": {
     "iopub.execute_input": "2022-03-30T22:27:05.078181Z",
     "iopub.status.busy": "2022-03-30T22:27:05.077513Z",
     "iopub.status.idle": "2022-03-30T22:27:05.080233Z",
     "shell.execute_reply": "2022-03-30T22:27:05.080724Z"
    }
   },
   "outputs": [],
   "source": [
    "#- 3rd column of a\n",
    "third_column = a[:, 2]\n",
    "# Show the result\n",
    "third_column"
   ]
  },
  {
   "cell_type": "code",
   "execution_count": 36,
   "id": "2e5ea8a5",
   "metadata": {
    "execution": {
     "iopub.execute_input": "2022-03-30T22:27:05.084740Z",
     "iopub.status.busy": "2022-03-30T22:27:05.084077Z",
     "iopub.status.idle": "2022-03-30T22:27:05.102126Z",
     "shell.execute_reply": "2022-03-30T22:27:05.100259Z"
    }
   },
   "outputs": [],
   "source": [
    "_ = ok.grade('q_third_column')"
   ]
  },
  {
   "cell_type": "markdown",
   "id": "99970b95",
   "metadata": {},
   "source": [
    "Create the following array, and call it `six_two`.  Notice that the array values do not have decimal points - they are integers (counting numbers).  Create this array to make sure you have integers and not floating point values.\n",
    "\n",
    "```\n",
    "[[1, 1, 1, 1],\n",
    "[1, 1, 1, 1],\n",
    "[1, 1, 1, 2],\n",
    "[1, 6, 1, 1]]\n",
    "```\n",
    "\n",
    "Please don't type in the values, but work out how to construct the array by\n",
    "making a good starting point, and assigning to the elements that aren't yet\n",
    "correct.\n",
    "\n",
    "Par for this course: 3 statements.\n",
    "\n",
    "*Hint*: Individual array elements can be accessed similarly to a list, e.g.\n",
    "`a[1]` or `a[1, 2]`."
   ]
  },
  {
   "cell_type": "code",
   "execution_count": 37,
   "id": "10537fbc",
   "metadata": {
    "execution": {
     "iopub.execute_input": "2022-03-30T22:27:05.107124Z",
     "iopub.status.busy": "2022-03-30T22:27:05.106462Z",
     "iopub.status.idle": "2022-03-30T22:27:05.108992Z",
     "shell.execute_reply": "2022-03-30T22:27:05.109469Z"
    }
   },
   "outputs": [],
   "source": [
    "#- Build given arrays\n",
    "six_two = np.ones((4, 4), dtype=np.int64)  # Would be float by default\n",
    "six_two[3, 1] = 6\n",
    "six_two[2, 3] = 2\n",
    "# Show the result\n",
    "six_two"
   ]
  },
  {
   "cell_type": "code",
   "execution_count": 38,
   "id": "9c00614a",
   "metadata": {
    "execution": {
     "iopub.execute_input": "2022-03-30T22:27:05.113035Z",
     "iopub.status.busy": "2022-03-30T22:27:05.112375Z",
     "iopub.status.idle": "2022-03-30T22:27:05.131025Z",
     "shell.execute_reply": "2022-03-30T22:27:05.128931Z"
    }
   },
   "outputs": [],
   "source": [
    "_ = ok.grade('q_six_two')"
   ]
  },
  {
   "cell_type": "markdown",
   "id": "9fbcc03f",
   "metadata": {},
   "source": [
    "Now create this array, and call it `off_stripe`.  Notice these are floating\n",
    "point values.  Again, don't create the array by typing in the values, but work\n",
    "out how to create this array with the Numpy function(s).\n",
    "\n",
    "```\n",
    "[[0., 0., 0., 0., 0., 0.],\n",
    "[2., 0., 0., 0., 0., 0.],\n",
    "[0., 3., 0., 0., 0., 0.],\n",
    "[0., 0., 4., 0., 0., 0.],\n",
    "[0., 0., 0., 5., 0., 0.],\n",
    "[0., 0., 0., 0., 6., 0.]]\n",
    "```\n",
    "\n",
    "Par is one statement!\n",
    "\n",
    "*Hint*: Examine the docstring for `np.diag`."
   ]
  },
  {
   "cell_type": "code",
   "execution_count": 39,
   "id": "36b24016",
   "metadata": {
    "execution": {
     "iopub.execute_input": "2022-03-30T22:27:05.135995Z",
     "iopub.status.busy": "2022-03-30T22:27:05.135264Z",
     "iopub.status.idle": "2022-03-30T22:27:05.137849Z",
     "shell.execute_reply": "2022-03-30T22:27:05.138324Z"
    }
   },
   "outputs": [],
   "source": [
    "# Need a float input to diag for float output\n",
    "off_stripe = np.diag([2., 3., 4, 5, 6], -1)\n",
    "# Show the result\n",
    "off_stripe"
   ]
  },
  {
   "cell_type": "code",
   "execution_count": 40,
   "id": "caaaaa19",
   "metadata": {
    "execution": {
     "iopub.execute_input": "2022-03-30T22:27:05.142006Z",
     "iopub.status.busy": "2022-03-30T22:27:05.141333Z",
     "iopub.status.idle": "2022-03-30T22:27:05.160191Z",
     "shell.execute_reply": "2022-03-30T22:27:05.158901Z"
    }
   },
   "outputs": [],
   "source": [
    "_ = ok.grade('q_off_stripe')"
   ]
  },
  {
   "cell_type": "markdown",
   "id": "df25f4c0",
   "metadata": {},
   "source": [
    "Skim through the documentation for `np.tile`, and use this function to\n",
    "construct the array:\n",
    "\n",
    "```\n",
    "[[4, 3, 4, 3, 4, 3],\n",
    "[2, 1, 2, 1, 2, 1],\n",
    "[4, 3, 4, 3, 4, 3],\n",
    "[2, 1, 2, 1, 2, 1]]\n",
    "```\n",
    "\n",
    "Call the array `my_tiled`."
   ]
  },
  {
   "cell_type": "code",
   "execution_count": 41,
   "id": "b98d083f",
   "metadata": {
    "execution": {
     "iopub.execute_input": "2022-03-30T22:27:05.165250Z",
     "iopub.status.busy": "2022-03-30T22:27:05.164429Z",
     "iopub.status.idle": "2022-03-30T22:27:05.167021Z",
     "shell.execute_reply": "2022-03-30T22:27:05.167439Z"
    }
   },
   "outputs": [],
   "source": [
    "#- Use np.tile to construct array\n",
    "my_tiled = np.tile([[4, 3], [2, 1]], (2, 3))\n",
    "# Show the result\n",
    "my_tiled"
   ]
  },
  {
   "cell_type": "code",
   "execution_count": 42,
   "id": "bc29a2db",
   "metadata": {
    "execution": {
     "iopub.execute_input": "2022-03-30T22:27:05.171128Z",
     "iopub.status.busy": "2022-03-30T22:27:05.170454Z",
     "iopub.status.idle": "2022-03-30T22:27:05.192798Z",
     "shell.execute_reply": "2022-03-30T22:27:05.191341Z"
    }
   },
   "outputs": [],
   "source": [
    "_ = ok.grade('q_my_tiled')"
   ]
  },
  {
   "cell_type": "markdown",
   "id": "0d690487",
   "metadata": {},
   "source": [
    "## Fancy indexing using Boolean arrays\n",
    "\n",
    "\n",
    "Here we create the following array `a` (same as before):\n",
    "\n",
    "```\n",
    "2  7 12  0\n",
    "3  9  3  4\n",
    "4  0  1  3\n",
    "```"
   ]
  },
  {
   "cell_type": "code",
   "execution_count": 43,
   "id": "5293370a",
   "metadata": {
    "execution": {
     "iopub.execute_input": "2022-03-30T22:27:05.200071Z",
     "iopub.status.busy": "2022-03-30T22:27:05.199238Z",
     "iopub.status.idle": "2022-03-30T22:27:05.201912Z",
     "shell.execute_reply": "2022-03-30T22:27:05.202363Z"
    }
   },
   "outputs": [],
   "source": [
    "# Create array a\n",
    "# Recreate it here, just in case.\n",
    "a = np.array([[2, 7, 12, 0], [3, 9, 3, 4], [4, 0, 1, 3]])"
   ]
  },
  {
   "cell_type": "markdown",
   "id": "b801c171",
   "metadata": {},
   "source": [
    "Use `>` to make a mask that is true where the elements are greater than\n",
    "5, like this:\n",
    "\n",
    "```\n",
    "False True  True  False\n",
    "False True  False False\n",
    "False False False False\n",
    "```\n",
    "\n",
    "Call this array `my_mask`."
   ]
  },
  {
   "cell_type": "code",
   "execution_count": 44,
   "id": "4e977b94",
   "metadata": {
    "execution": {
     "iopub.execute_input": "2022-03-30T22:27:05.207306Z",
     "iopub.status.busy": "2022-03-30T22:27:05.206508Z",
     "iopub.status.idle": "2022-03-30T22:27:05.209870Z",
     "shell.execute_reply": "2022-03-30T22:27:05.210585Z"
    }
   },
   "outputs": [],
   "source": [
    "#- Make mask for values greater than 5\n",
    "my_mask = a > 5\n",
    "# Show the result\n",
    "my_mask"
   ]
  },
  {
   "cell_type": "code",
   "execution_count": 45,
   "id": "78d9d962",
   "metadata": {
    "execution": {
     "iopub.execute_input": "2022-03-30T22:27:05.216690Z",
     "iopub.status.busy": "2022-03-30T22:27:05.215814Z",
     "iopub.status.idle": "2022-03-30T22:27:05.237943Z",
     "shell.execute_reply": "2022-03-30T22:27:05.236754Z"
    },
    "lines_to_next_cell": 2
   },
   "outputs": [],
   "source": [
    "_ = ok.grade('q_my_mask')"
   ]
  },
  {
   "cell_type": "markdown",
   "id": "8e4b0a95",
   "metadata": {},
   "source": [
    "Put all the elements in `a` that are greater than 5 into a new array `gt_5`."
   ]
  },
  {
   "cell_type": "code",
   "execution_count": 46,
   "id": "30fb8c99",
   "metadata": {
    "execution": {
     "iopub.execute_input": "2022-03-30T22:27:05.242430Z",
     "iopub.status.busy": "2022-03-30T22:27:05.241706Z",
     "iopub.status.idle": "2022-03-30T22:27:05.244961Z",
     "shell.execute_reply": "2022-03-30T22:27:05.245507Z"
    }
   },
   "outputs": [],
   "source": [
    "#- Return all values in a that are greater than 5\n",
    "gt_5 = a[my_mask]\n",
    "# Show the result\n",
    "gt_5"
   ]
  },
  {
   "cell_type": "code",
   "execution_count": 47,
   "id": "9243a8eb",
   "metadata": {
    "execution": {
     "iopub.execute_input": "2022-03-30T22:27:05.250265Z",
     "iopub.status.busy": "2022-03-30T22:27:05.249492Z",
     "iopub.status.idle": "2022-03-30T22:27:05.270427Z",
     "shell.execute_reply": "2022-03-30T22:27:05.269248Z"
    }
   },
   "outputs": [],
   "source": [
    "_ = ok.grade('q_gt_5')"
   ]
  },
  {
   "cell_type": "markdown",
   "id": "ceaa35c1",
   "metadata": {},
   "source": [
    "Set all the elements greater than 5 to be equal to 5, to get this:\n",
    "\n",
    "```\n",
    "2  5  5  0\n",
    "3  5  3  4\n",
    "4  0  1  3\n",
    "```\n",
    "\n",
    "Call this array `b`.  Start with `b` as a new copy of `a`."
   ]
  },
  {
   "cell_type": "code",
   "execution_count": 48,
   "id": "eece15a5",
   "metadata": {
    "execution": {
     "iopub.execute_input": "2022-03-30T22:27:05.275330Z",
     "iopub.status.busy": "2022-03-30T22:27:05.274645Z",
     "iopub.status.idle": "2022-03-30T22:27:05.277268Z",
     "shell.execute_reply": "2022-03-30T22:27:05.277717Z"
    }
   },
   "outputs": [],
   "source": [
    "#- Set all elements greater than 5 to equal 5\n",
    "# Copy the array `a` in order not to write over it.\n",
    "b = a.copy()\n",
    "b[my_mask] = 5\n",
    "# Show the result\n",
    "b"
   ]
  },
  {
   "cell_type": "code",
   "execution_count": 49,
   "id": "6b1e3282",
   "metadata": {
    "execution": {
     "iopub.execute_input": "2022-03-30T22:27:05.282247Z",
     "iopub.status.busy": "2022-03-30T22:27:05.281545Z",
     "iopub.status.idle": "2022-03-30T22:27:05.302938Z",
     "shell.execute_reply": "2022-03-30T22:27:05.302425Z"
    },
    "lines_to_next_cell": 2
   },
   "outputs": [],
   "source": [
    "_ = ok.grade('q_b')"
   ]
  },
  {
   "cell_type": "markdown",
   "id": "3d147350",
   "metadata": {},
   "source": [
    "## Elementwise operations\n",
    "\n",
    "\n",
    "Remember our array `a`:\n",
    "\n",
    "```\n",
    "2  7 12  0\n",
    "3  9  3  4\n",
    "4  0  1  3\n",
    "```\n",
    "\n",
    "Use array slicing to get a new array composed of the even columns (0, 2) of\n",
    "`a`. Now get the array that contains the odd columns (1, 3) of `a`.  Add these\n",
    "two arrays."
   ]
  },
  {
   "cell_type": "code",
   "execution_count": 50,
   "id": "bb52eac7",
   "metadata": {
    "execution": {
     "iopub.execute_input": "2022-03-30T22:27:05.308791Z",
     "iopub.status.busy": "2022-03-30T22:27:05.308081Z",
     "iopub.status.idle": "2022-03-30T22:27:05.310755Z",
     "shell.execute_reply": "2022-03-30T22:27:05.311279Z"
    }
   },
   "outputs": [],
   "source": [
    "#- Add even and odd columns of a\n",
    "a = np.array([[2, 7, 12, 0], [3, 9, 3, 4], [4, 0, 1,  3]])\n",
    "even_columns = a[:, ::2]\n",
    "odd_columns = a[:, 1::2]\n",
    "even_plus_odd = even_columns + odd_columns\n",
    "# Show the result\n",
    "even_plus_odd"
   ]
  },
  {
   "cell_type": "code",
   "execution_count": 51,
   "id": "8169572e",
   "metadata": {
    "execution": {
     "iopub.execute_input": "2022-03-30T22:27:05.315859Z",
     "iopub.status.busy": "2022-03-30T22:27:05.315131Z",
     "iopub.status.idle": "2022-03-30T22:27:05.337327Z",
     "shell.execute_reply": "2022-03-30T22:27:05.336088Z"
    },
    "lines_to_next_cell": 2
   },
   "outputs": [],
   "source": [
    "_ = ok.grade('q_even_plus_odd')"
   ]
  },
  {
   "cell_type": "markdown",
   "id": "df127868",
   "metadata": {},
   "source": [
    "Generate the following array, call it `powers_of_two`:\n",
    "\n",
    "```\n",
    "[2**0, 2**1, 2**2, 2**3, 2**4]\n",
    "```"
   ]
  },
  {
   "cell_type": "code",
   "execution_count": 52,
   "id": "e697b025",
   "metadata": {
    "execution": {
     "iopub.execute_input": "2022-03-30T22:27:05.341998Z",
     "iopub.status.busy": "2022-03-30T22:27:05.341322Z",
     "iopub.status.idle": "2022-03-30T22:27:05.344019Z",
     "shell.execute_reply": "2022-03-30T22:27:05.344510Z"
    }
   },
   "outputs": [],
   "source": [
    "#- Generate array of powers of 2\n",
    "powers_of_two = 2 ** np.arange(5)\n",
    "# Show the result\n",
    "powers_of_two"
   ]
  },
  {
   "cell_type": "code",
   "execution_count": 53,
   "id": "732fdff6",
   "metadata": {
    "execution": {
     "iopub.execute_input": "2022-03-30T22:27:05.349117Z",
     "iopub.status.busy": "2022-03-30T22:27:05.348330Z",
     "iopub.status.idle": "2022-03-30T22:27:05.371182Z",
     "shell.execute_reply": "2022-03-30T22:27:05.369918Z"
    },
    "lines_to_next_cell": 2
   },
   "outputs": [],
   "source": [
    "_ = ok.grade('q_powers_of_two')"
   ]
  },
  {
   "cell_type": "markdown",
   "id": "7b960c94",
   "metadata": {},
   "source": [
    "Generate an array length 10 such that this is true of the elements (where\n",
    "`my_values[i]` is the element of `my_values` at index `i`):\n",
    "\n",
    "```\n",
    "my_values[i] = 2 ** (3 * i) - i\n",
    "```"
   ]
  },
  {
   "cell_type": "code",
   "execution_count": 54,
   "id": "32c51d6d",
   "metadata": {
    "execution": {
     "iopub.execute_input": "2022-03-30T22:27:05.376207Z",
     "iopub.status.busy": "2022-03-30T22:27:05.375535Z",
     "iopub.status.idle": "2022-03-30T22:27:05.378542Z",
     "shell.execute_reply": "2022-03-30T22:27:05.378947Z"
    }
   },
   "outputs": [],
   "source": [
    "#- Generate array\n",
    "inds = np.arange(10)\n",
    "my_values = 2 ** (3 * inds) - inds\n",
    "# Show the result\n",
    "my_values"
   ]
  },
  {
   "cell_type": "code",
   "execution_count": 55,
   "id": "c1e496c1",
   "metadata": {
    "execution": {
     "iopub.execute_input": "2022-03-30T22:27:05.383486Z",
     "iopub.status.busy": "2022-03-30T22:27:05.382787Z",
     "iopub.status.idle": "2022-03-30T22:27:05.405275Z",
     "shell.execute_reply": "2022-03-30T22:27:05.402540Z"
    }
   },
   "outputs": [],
   "source": [
    "_ = ok.grade('q_my_values')"
   ]
  },
  {
   "cell_type": "markdown",
   "id": "50f61dae",
   "metadata": {},
   "source": [
    "## Summary functions\n",
    "\n",
    "Remember our array `a`:\n",
    "\n",
    "```\n",
    "2  7 12  0\n",
    "3  9  3  4\n",
    "4  0  1  3\n",
    "```"
   ]
  },
  {
   "cell_type": "code",
   "execution_count": 56,
   "id": "e0cf269d",
   "metadata": {
    "execution": {
     "iopub.execute_input": "2022-03-30T22:27:05.414615Z",
     "iopub.status.busy": "2022-03-30T22:27:05.412135Z",
     "iopub.status.idle": "2022-03-30T22:27:05.415819Z",
     "shell.execute_reply": "2022-03-30T22:27:05.416907Z"
    }
   },
   "outputs": [],
   "source": [
    "# Run the cell to re-create the array\n",
    "a = np.array([[2, 7, 12, 0], [3, 9, 3, 4], [4, 0, 1,  3]])"
   ]
  },
  {
   "cell_type": "markdown",
   "id": "59a3cdf8",
   "metadata": {},
   "source": [
    "Show the sum of all the values."
   ]
  },
  {
   "cell_type": "code",
   "execution_count": 57,
   "id": "8fa7e907",
   "metadata": {
    "execution": {
     "iopub.execute_input": "2022-03-30T22:27:05.423106Z",
     "iopub.status.busy": "2022-03-30T22:27:05.422402Z",
     "iopub.status.idle": "2022-03-30T22:27:05.425245Z",
     "shell.execute_reply": "2022-03-30T22:27:05.425773Z"
    }
   },
   "outputs": [],
   "source": [
    "#- Sum of values in a\n",
    "a_sum = np.sum(a)\n",
    "# Show the result\n",
    "a_sum"
   ]
  },
  {
   "cell_type": "code",
   "execution_count": 58,
   "id": "f30492d3",
   "metadata": {
    "execution": {
     "iopub.execute_input": "2022-03-30T22:27:05.430199Z",
     "iopub.status.busy": "2022-03-30T22:27:05.429144Z",
     "iopub.status.idle": "2022-03-30T22:27:05.450224Z",
     "shell.execute_reply": "2022-03-30T22:27:05.448916Z"
    },
    "lines_to_next_cell": 2
   },
   "outputs": [],
   "source": [
    "_ = ok.grade('q_a_sum')"
   ]
  },
  {
   "cell_type": "markdown",
   "id": "10dcf6ca",
   "metadata": {},
   "source": [
    "Show the sum of the columns."
   ]
  },
  {
   "cell_type": "code",
   "execution_count": 59,
   "id": "d569b75a",
   "metadata": {
    "execution": {
     "iopub.execute_input": "2022-03-30T22:27:05.454716Z",
     "iopub.status.busy": "2022-03-30T22:27:05.454024Z",
     "iopub.status.idle": "2022-03-30T22:27:05.457000Z",
     "shell.execute_reply": "2022-03-30T22:27:05.457472Z"
    }
   },
   "outputs": [],
   "source": [
    "#- Sum of the values of the columns in a.\n",
    "#- There are four columns, so there will be four values.\n",
    "# Sum over the first axis, leaving the second.\n",
    "col_sum = np.sum(a, axis=0)\n",
    "# Show the result\n",
    "col_sum"
   ]
  },
  {
   "cell_type": "code",
   "execution_count": 60,
   "id": "8348f1ea",
   "metadata": {
    "execution": {
     "iopub.execute_input": "2022-03-30T22:27:05.461327Z",
     "iopub.status.busy": "2022-03-30T22:27:05.460635Z",
     "iopub.status.idle": "2022-03-30T22:27:05.485315Z",
     "shell.execute_reply": "2022-03-30T22:27:05.483956Z"
    }
   },
   "outputs": [],
   "source": [
    "_ = ok.grade('q_col_sum')"
   ]
  },
  {
   "cell_type": "markdown",
   "id": "c6a7dd91",
   "metadata": {},
   "source": [
    "Show the sum of the rows."
   ]
  },
  {
   "cell_type": "code",
   "execution_count": 61,
   "id": "38f470f5",
   "metadata": {
    "execution": {
     "iopub.execute_input": "2022-03-30T22:27:05.490710Z",
     "iopub.status.busy": "2022-03-30T22:27:05.489914Z",
     "iopub.status.idle": "2022-03-30T22:27:05.492726Z",
     "shell.execute_reply": "2022-03-30T22:27:05.493321Z"
    }
   },
   "outputs": [],
   "source": [
    "#- Sum of the values of the rows in a\n",
    "# Sum over the second axis, leaving the first.\n",
    "row_sum = np.sum(a, axis=1)\n",
    "# Show the result\n",
    "row_sum"
   ]
  },
  {
   "cell_type": "code",
   "execution_count": 62,
   "id": "a29f78c0",
   "metadata": {
    "execution": {
     "iopub.execute_input": "2022-03-30T22:27:05.499085Z",
     "iopub.status.busy": "2022-03-30T22:27:05.498015Z",
     "iopub.status.idle": "2022-03-30T22:27:05.519010Z",
     "shell.execute_reply": "2022-03-30T22:27:05.517773Z"
    }
   },
   "outputs": [],
   "source": [
    "_ = ok.grade('q_row_sum')"
   ]
  },
  {
   "cell_type": "markdown",
   "id": "6daddd47",
   "metadata": {},
   "source": [
    "Show the mean of all the values in `a`."
   ]
  },
  {
   "cell_type": "code",
   "execution_count": 63,
   "id": "76b2e59e",
   "metadata": {
    "execution": {
     "iopub.execute_input": "2022-03-30T22:27:05.523759Z",
     "iopub.status.busy": "2022-03-30T22:27:05.523050Z",
     "iopub.status.idle": "2022-03-30T22:27:05.525763Z",
     "shell.execute_reply": "2022-03-30T22:27:05.526141Z"
    }
   },
   "outputs": [],
   "source": [
    "#- Mean of all the values in a\n",
    "a_mean = np.mean(a)\n",
    "# Show the result\n",
    "a_mean"
   ]
  },
  {
   "cell_type": "code",
   "execution_count": 64,
   "id": "817468dd",
   "metadata": {
    "execution": {
     "iopub.execute_input": "2022-03-30T22:27:05.531277Z",
     "iopub.status.busy": "2022-03-30T22:27:05.529437Z",
     "iopub.status.idle": "2022-03-30T22:27:05.550980Z",
     "shell.execute_reply": "2022-03-30T22:27:05.549681Z"
    },
    "lines_to_next_cell": 2
   },
   "outputs": [],
   "source": [
    "_ = ok.grade('q_a_mean')"
   ]
  },
  {
   "cell_type": "markdown",
   "id": "ced8e132",
   "metadata": {},
   "source": [
    "Show the min of all the values."
   ]
  },
  {
   "cell_type": "code",
   "execution_count": 65,
   "id": "03f6bdb1",
   "metadata": {
    "execution": {
     "iopub.execute_input": "2022-03-30T22:27:05.555290Z",
     "iopub.status.busy": "2022-03-30T22:27:05.554533Z",
     "iopub.status.idle": "2022-03-30T22:27:05.557398Z",
     "shell.execute_reply": "2022-03-30T22:27:05.557816Z"
    }
   },
   "outputs": [],
   "source": [
    "#- Minimum of all the values in a\n",
    "a_min = np.min(a)\n",
    "# Show the result\n",
    "a_min"
   ]
  },
  {
   "cell_type": "code",
   "execution_count": 66,
   "id": "2d48f47d",
   "metadata": {
    "execution": {
     "iopub.execute_input": "2022-03-30T22:27:05.561436Z",
     "iopub.status.busy": "2022-03-30T22:27:05.560769Z",
     "iopub.status.idle": "2022-03-30T22:27:05.587144Z",
     "shell.execute_reply": "2022-03-30T22:27:05.585872Z"
    }
   },
   "outputs": [],
   "source": [
    "_ = ok.grade('q_a_min')"
   ]
  },
  {
   "cell_type": "markdown",
   "id": "0eac1b9e",
   "metadata": {},
   "source": [
    "The max?"
   ]
  },
  {
   "cell_type": "code",
   "execution_count": 67,
   "id": "ed746152",
   "metadata": {
    "execution": {
     "iopub.execute_input": "2022-03-30T22:27:05.591591Z",
     "iopub.status.busy": "2022-03-30T22:27:05.590935Z",
     "iopub.status.idle": "2022-03-30T22:27:05.593770Z",
     "shell.execute_reply": "2022-03-30T22:27:05.594502Z"
    }
   },
   "outputs": [],
   "source": [
    "#- Maximum of all the values in a\n",
    "a_max = np.max(a)\n",
    "# Show the result\n",
    "a_max"
   ]
  },
  {
   "cell_type": "code",
   "execution_count": 68,
   "id": "e43ad91f",
   "metadata": {
    "execution": {
     "iopub.execute_input": "2022-03-30T22:27:05.605008Z",
     "iopub.status.busy": "2022-03-30T22:27:05.602754Z",
     "iopub.status.idle": "2022-03-30T22:27:05.651216Z",
     "shell.execute_reply": "2022-03-30T22:27:05.648625Z"
    }
   },
   "outputs": [],
   "source": [
    "_ = ok.grade('q_a_min')"
   ]
  },
  {
   "cell_type": "markdown",
   "id": "776cc763",
   "metadata": {},
   "source": [
    "## Done.\n",
    "\n",
    "Congratulations, you're done with the assignment!  Be sure to:\n",
    "\n",
    "- **run all the tests** (the next cell has a shortcut for that).\n",
    "- **Save and Checkpoint** from the `File` menu."
   ]
  },
  {
   "cell_type": "code",
   "execution_count": 69,
   "id": "6d9289f0",
   "metadata": {
    "execution": {
     "iopub.execute_input": "2022-03-30T22:27:05.657232Z",
     "iopub.status.busy": "2022-03-30T22:27:05.656303Z",
     "iopub.status.idle": "2022-03-30T22:27:06.150075Z",
     "shell.execute_reply": "2022-03-30T22:27:06.148855Z"
    }
   },
   "outputs": [],
   "source": [
    "# For your convenience, you can run this cell to run all the tests at once!\n",
    "import os\n",
    "_ = [ok.grade(q[:-3]) for q in os.listdir(\"tests\") if q.startswith('q')]"
   ]
  }
 ],
 "metadata": {
  "jupytext": {
   "notebook_metadata_filter": "all,-language_info",
   "split_at_heading": true,
   "text_representation": {
    "extension": ".Rmd",
    "format_name": "rmarkdown",
    "format_version": "1.1",
    "jupytext_version": "1.2.4"
   }
  },
  "kernelspec": {
   "display_name": "Python 3",
   "language": "python",
   "name": "python3"
  },
  "language_info": {
   "codemirror_mode": {
    "name": "ipython",
    "version": 3
   },
   "file_extension": ".py",
   "mimetype": "text/x-python",
   "name": "python",
   "nbconvert_exporter": "python",
   "pygments_lexer": "ipython3",
   "version": "3.8.13"
  }
 },
 "nbformat": 4,
 "nbformat_minor": 5
}
